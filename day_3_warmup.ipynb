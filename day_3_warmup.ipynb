{
 "cells": [
  {
   "cell_type": "code",
   "execution_count": 3,
   "metadata": {},
   "outputs": [],
   "source": [
    "import csv\n",
    "with open(\"data.csv\") as d:\n",
    "    reader = csv.reader(d)\n",
    "    data = list(reader)"
   ]
  },
  {
   "cell_type": "code",
   "execution_count": 14,
   "metadata": {},
   "outputs": [],
   "source": [
    "data = data[2:]"
   ]
  },
  {
   "cell_type": "code",
   "execution_count": 15,
   "metadata": {},
   "outputs": [
    {
     "data": {
      "text/plain": [
       "[['Alec Morgan',\n",
       "  'AlecMorgan',\n",
       "  'https://github.com/AlecMorgan/GitHub-Learning-Project'],\n",
       " ['Alex Shropshire', 'as6140', 'https://github.com/as6140/repotest1'],\n",
       " ['Alexander Bailey', 'ZMBailey', 'https://github.com/ZMBailey/fi_repo1'],\n",
       " ['Andy Luc', 'rokaandy', 'https://github.com/rokaandy/exercise_one'],\n",
       " ['Anna Zubova Bistrova',\n",
       "  'AnnaLara',\n",
       "  'https://github.com/AnnaLara/tuesday_practice'],\n",
       " ['Connor Anderson',\n",
       "  'ConnorAnderson29',\n",
       "  'https://github.com/ConnorAnderson29/Warmup_Repo'],\n",
       " ['David Kaspar',\n",
       "  'UpwardTrajectory',\n",
       "  'https://github.com/UpwardTrajectory/this_is_only_a_test'],\n",
       " ['Hussein Sajid', '', ''],\n",
       " ['Jacob Crabb',\n",
       "  'AlludedCrabb',\n",
       "  'https://github.com/AlludedCrabb/my-school-repo'],\n",
       " ['John Naujoks', 'jnawjux', 'https://github.com/jnawjux/tacos.git'],\n",
       " ['Kayli Schulz', 'kayschulz', 'https://github.com/kayschulz/day_2_warmup'],\n",
       " ['Kevin Velasco', 'kevintheduu', 'https://github.com/kevintheduu/day_two '],\n",
       " ['Laura Shummon Maass',\n",
       "  'Laura-ShummonMaass',\n",
       "  'https://github.com/Laura-ShummonMaass/Day2.git'],\n",
       " ['Lawrence Chew', 'worldyne', 'https://github.com/worldyne/warmup_1-2-2019'],\n",
       " ['Lee Mackey', 'glmack', 'https://github.com/glmack/flatiron-4.2.git'],\n",
       " ['Mando Iwanaga',\n",
       "  'mandoiwanaga',\n",
       "  'https://github.com/mandoiwanaga/how_to_drink_tea.git'],\n",
       " ['Mia Iseman', 'MIAISEMAN', 'https://github.com/MIAISEMAN/haikus'],\n",
       " ['Natasha Kacoroski',\n",
       "  'nkacoroski',\n",
       "  'https://github.com/nkacoroski/second_day.git'],\n",
       " ['Pat Fuller',\n",
       "  'Patrickbfuller',\n",
       "  'https://github.com/Patrickbfuller/practice_git_wk1d2'],\n",
       " ['Sherry Yang',\n",
       "  'sherzyang',\n",
       "  'https://github.com/sherzyang/new_repo/blob/master/sherrys_day.txt'],\n",
       " ['Taeho Jeon', 'Teosoft7', 'https://github.com/Teosoft7/data_mining.git'],\n",
       " ['Tara Greenwood',\n",
       "  'TSGreenwood',\n",
       "  'https://github.com/TSGreenwood/rock_paper_scissors/tree/master/.ipynb_checkpoints'],\n",
       " ['Werlindo Mangrobang',\n",
       "  'angrobanGit',\n",
       "  'https://github.com/MangrobanGit/warmup_190402']]"
      ]
     },
     "execution_count": 15,
     "metadata": {},
     "output_type": "execute_result"
    }
   ],
   "source": [
    "data"
   ]
  },
  {
   "cell_type": "code",
   "execution_count": 5,
   "metadata": {},
   "outputs": [],
   "source": [
    "#now I want to print out only the github usernames"
   ]
  },
  {
   "cell_type": "code",
   "execution_count": 9,
   "metadata": {},
   "outputs": [],
   "source": [
    "def githubname(person):\n",
    "    print(person[1])"
   ]
  },
  {
   "cell_type": "code",
   "execution_count": 10,
   "metadata": {},
   "outputs": [
    {
     "name": "stdout",
     "output_type": "stream",
     "text": [
      "angrobanGit\n"
     ]
    }
   ],
   "source": [
    "githubname(data[-1])"
   ]
  },
  {
   "cell_type": "code",
   "execution_count": 17,
   "metadata": {},
   "outputs": [
    {
     "name": "stdout",
     "output_type": "stream",
     "text": [
      "AlecMorgan\n",
      "as6140\n",
      "ZMBailey\n",
      "rokaandy\n",
      "AnnaLara\n",
      "ConnorAnderson29\n",
      "UpwardTrajectory\n",
      "\n",
      "AlludedCrabb\n",
      "jnawjux\n",
      "kayschulz\n",
      "kevintheduu\n",
      "Laura-ShummonMaass\n",
      "worldyne\n",
      "glmack\n",
      "mandoiwanaga\n",
      "MIAISEMAN\n",
      "nkacoroski\n",
      "Patrickbfuller\n",
      "sherzyang\n",
      "Teosoft7\n",
      "TSGreenwood\n",
      "angrobanGit\n"
     ]
    }
   ],
   "source": [
    "for person in data:\n",
    "    githubname(person)"
   ]
  },
  {
   "cell_type": "code",
   "execution_count": null,
   "metadata": {},
   "outputs": [],
   "source": []
  }
 ],
 "metadata": {
  "kernelspec": {
   "display_name": "Python [conda env:root]",
   "language": "python",
   "name": "conda-root-py"
  },
  "language_info": {
   "codemirror_mode": {
    "name": "ipython",
    "version": 3
   },
   "file_extension": ".py",
   "mimetype": "text/x-python",
   "name": "python",
   "nbconvert_exporter": "python",
   "pygments_lexer": "ipython3",
   "version": "3.7.1"
  }
 },
 "nbformat": 4,
 "nbformat_minor": 2
}
